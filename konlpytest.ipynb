{
 "cells": [
  {
   "cell_type": "code",
   "execution_count": 42,
   "metadata": {},
   "outputs": [],
   "source": [
    "from konlpy.tag import Okt\n",
    "from konlpy.tag import Kkma"
   ]
  },
  {
   "cell_type": "code",
   "execution_count": 9,
   "metadata": {},
   "outputs": [
    {
     "name": "stdout",
     "output_type": "stream",
     "text": [
      "Collecting scikit_learn\n",
      "  Downloading scikit_learn-1.3.2-cp310-cp310-win_amd64.whl (9.3 MB)\n",
      "     ---------------------------------------- 9.3/9.3 MB 23.6 MB/s eta 0:00:00\n",
      "Collecting threadpoolctl>=2.0.0\n",
      "  Downloading threadpoolctl-3.2.0-py3-none-any.whl (15 kB)\n",
      "Collecting scipy>=1.5.0\n",
      "  Downloading scipy-1.11.3-cp310-cp310-win_amd64.whl (44.1 MB)\n",
      "     --------------------------------------- 44.1/44.1 MB 73.0 MB/s eta 0:00:00\n",
      "Collecting joblib>=1.1.1\n",
      "  Downloading joblib-1.3.2-py3-none-any.whl (302 kB)\n",
      "     ---------------------------------------- 302.2/302.2 kB ? eta 0:00:00\n",
      "Requirement already satisfied: numpy<2.0,>=1.17.3 in c:\\users\\oneze\\appdata\\local\\programs\\python\\python310\\lib\\site-packages (from scikit_learn) (1.26.1)\n",
      "Installing collected packages: threadpoolctl, scipy, joblib, scikit_learn\n",
      "Successfully installed joblib-1.3.2 scikit_learn-1.3.2 scipy-1.11.3 threadpoolctl-3.2.0\n"
     ]
    },
    {
     "name": "stderr",
     "output_type": "stream",
     "text": [
      "\n",
      "[notice] A new release of pip available: 22.2.2 -> 23.3.1\n",
      "[notice] To update, run: python.exe -m pip install --upgrade pip\n"
     ]
    }
   ],
   "source": [
    "!pip install scikit_learn"
   ]
  },
  {
   "cell_type": "code",
   "execution_count": 58,
   "metadata": {},
   "outputs": [
    {
     "data": {
      "text/plain": [
       "array(['injection은', 'injection이란', 'sql', '값이', '값인지', '강화하는', '개발자가',\n",
       "       '검증하는', '검증하여', '것을', '경우', '공격', '공격자가', '구문을', '기법입니다', '기술로',\n",
       "       '대한', '데이터베이스를', '데이터베이스에', '데이터베이스와', '동적으로', '또는', '방법', '방법입니다',\n",
       "       '보안을', '부적절한', '비정상적으로', '사용되는', '사용자가', '사용자의', '사용합니다', '삽입하여',\n",
       "       '상호', '성능을', '악의적인', '액세스를', '액세스하려는', '얻는', '영향을', '응용', '의도를',\n",
       "       '의도한', '의미합니다', '인젝션', '입력값을', '입력된', '입력이', '입력하여', '작용하여', '저장',\n",
       "       '조작하는', '주는', '지닌', '코드', '코드를', '쿼리에', '프로그램', '프로그램의', '프로시저를',\n",
       "       '향상시키는'], dtype=object)"
      ]
     },
     "execution_count": 58,
     "metadata": {},
     "output_type": "execute_result"
    }
   ],
   "source": [
    "from sklearn.feature_extraction.text import CountVectorizer\n",
    "\n",
    "vectorizer = CountVectorizer(min_df = 1)\n",
    "\n",
    "strings = ['SQL INJECTION이란 공격자가 악의적인 의도를 지닌 SQL 구문을 삽입하여 데이터베이스를 비정상적으로 조작하는 코드 인젝션 공격 기법입니다.',\n",
    "           '입력값을 검증하여 사용자의 입력이 쿼리에 동적으로 영향을 주는 경우 입력된 값이 개발자가 의도한 값인지 검증하는 방법 또는 저장 프로시저를 사용합니다.',\n",
    "           'SQL injection은 악의적인 사용자가 웹 응용 프로그램 또는 데이터베이스에 액세스하려는 때 사용되는 공격 기술로, 악의적인 SQL 코드를 입력하여 데이터베이스에 대한 부적절한 액세스를 얻는 것을 의미합니다.',\n",
    "           'SQL injection은 웹 응용 프로그램의 성능을 향상시키는 데 사용되는 기술로, 데이터베이스와 상호 작용하여 보안을 강화하는 방법입니다.'\n",
    "           ]\n",
    "X = vectorizer.fit_transform(strings)\n",
    "vectorizer.get_feature_names_out()"
   ]
  },
  {
   "cell_type": "code",
   "execution_count": 59,
   "metadata": {},
   "outputs": [
    {
     "data": {
      "text/plain": [
       "array([[0, 0, 1, 1],\n",
       "       [1, 0, 0, 0],\n",
       "       [2, 0, 2, 1],\n",
       "       [0, 1, 0, 0],\n",
       "       [0, 1, 0, 0],\n",
       "       [0, 0, 0, 1],\n",
       "       [0, 1, 0, 0],\n",
       "       [0, 1, 0, 0],\n",
       "       [0, 1, 0, 0],\n",
       "       [0, 0, 1, 0],\n",
       "       [0, 1, 0, 0],\n",
       "       [1, 0, 1, 0],\n",
       "       [1, 0, 0, 0],\n",
       "       [1, 0, 0, 0],\n",
       "       [1, 0, 0, 0],\n",
       "       [0, 0, 1, 1],\n",
       "       [0, 0, 1, 0],\n",
       "       [1, 0, 0, 0],\n",
       "       [0, 0, 2, 0],\n",
       "       [0, 0, 0, 1],\n",
       "       [0, 1, 0, 0],\n",
       "       [0, 1, 1, 0],\n",
       "       [0, 1, 0, 0],\n",
       "       [0, 0, 0, 1],\n",
       "       [0, 0, 0, 1],\n",
       "       [0, 0, 1, 0],\n",
       "       [1, 0, 0, 0],\n",
       "       [0, 0, 1, 1],\n",
       "       [0, 0, 1, 0],\n",
       "       [0, 1, 0, 0],\n",
       "       [0, 1, 0, 0],\n",
       "       [1, 0, 0, 0],\n",
       "       [0, 0, 0, 1],\n",
       "       [0, 0, 0, 1],\n",
       "       [1, 0, 2, 0],\n",
       "       [0, 0, 1, 0],\n",
       "       [0, 0, 1, 0],\n",
       "       [0, 0, 1, 0],\n",
       "       [0, 1, 0, 0],\n",
       "       [0, 0, 1, 1],\n",
       "       [1, 0, 0, 0],\n",
       "       [0, 1, 0, 0],\n",
       "       [0, 0, 1, 0],\n",
       "       [1, 0, 0, 0],\n",
       "       [0, 1, 0, 0],\n",
       "       [0, 1, 0, 0],\n",
       "       [0, 1, 0, 0],\n",
       "       [0, 0, 1, 0],\n",
       "       [0, 0, 0, 1],\n",
       "       [0, 1, 0, 0],\n",
       "       [1, 0, 0, 0],\n",
       "       [0, 1, 0, 0],\n",
       "       [1, 0, 0, 0],\n",
       "       [1, 0, 0, 0],\n",
       "       [0, 0, 1, 0],\n",
       "       [0, 1, 0, 0],\n",
       "       [0, 0, 1, 0],\n",
       "       [0, 0, 0, 1],\n",
       "       [0, 1, 0, 0],\n",
       "       [0, 0, 0, 1]], dtype=int64)"
      ]
     },
     "execution_count": 59,
     "metadata": {},
     "output_type": "execute_result"
    }
   ],
   "source": [
    "X.toarray().transpose()"
   ]
  },
  {
   "cell_type": "code",
   "execution_count": 60,
   "metadata": {},
   "outputs": [
    {
     "data": {
      "text/plain": [
       "array([[1, 0, 2, 0, 0, 0, 0, 0, 0, 0, 0, 0, 0, 0, 0, 1, 0, 0, 0, 0, 0, 0,\n",
       "        0, 0, 0, 0, 0, 1, 0, 0, 0, 1, 0, 0, 1, 0, 0, 0, 0, 1, 0, 0, 0, 0,\n",
       "        0, 0, 0, 0, 0, 0, 0, 0, 0, 0, 1, 0, 0, 0, 0, 0]], dtype=int64)"
      ]
     },
     "execution_count": 60,
     "metadata": {},
     "output_type": "execute_result"
    }
   ],
   "source": [
    "new_post = ['SQL injection은 데이터베이스에서 정보를 안전하게 추출하는 데 사용되는 기술로, 웹 응용 프로그램에 악의적인 SQL 코드를 삽입하여 보안 취약점을 악용합니다.']\n",
    "new_post_vec = vectorizer.transform(new_post)\n",
    "new_post_vec.toarray()"
   ]
  },
  {
   "cell_type": "code",
   "execution_count": 61,
   "metadata": {},
   "outputs": [
    {
     "name": "stdout",
     "output_type": "stream",
     "text": [
      "0 번째의 거리= 4.12 : SQL INJECTION이란 공격자가 악의적인 의도를 지닌 SQL 구문을 삽입하여 데이터베이스를 비정상적으로 조작하는 코드 인젝션 공격 기법입니다.\n",
      "1 번째의 거리= 5.57 : 입력값을 검증하여 사용자의 입력이 쿼리에 동적으로 영향을 주는 경우 입력된 값이 개발자가 의도한 값인지 검증하는 방법 또는 저장 프로시저를 사용합니다.\n",
      "2 번째의 거리= 4.24 : SQL injection은 악의적인 사용자가 웹 응용 프로그램 또는 데이터베이스에 액세스하려는 때 사용되는 공격 기술로, 악의적인 SQL 코드를 입력하여 데이터베이스에 대한 부적절한 액세스를 얻는 것을 의미합니다.\n",
      "3 번째의 거리= 3.61 : SQL injection은 웹 응용 프로그램의 성능을 향상시키는 데 사용되는 기술로, 데이터베이스와 상호 작용하여 보안을 강화하는 방법입니다.\n",
      "제일 가까운 문장과의 거리= 3.61 : SQL injection은 웹 응용 프로그램의 성능을 향상시키는 데 사용되는 기술로, 데이터베이스와 상호 작용하여 보안을 강화하는 방법입니다.\n"
     ]
    }
   ],
   "source": [
    "import scipy as sp\n",
    "import sys\n",
    "\n",
    "def dist_raw(v1, v2):\n",
    "  delta = v1-v2\n",
    "  return sp.linalg.norm(delta.toarray())\n",
    "\n",
    "best_dist = sys.maxsize\n",
    "best_i = None\n",
    "\n",
    "for i in range(4):\n",
    "  post_vec = X.getrow(i)\n",
    "\n",
    "  d = dist_raw(post_vec, new_post_vec)\n",
    "\n",
    "  print(\"%i 번째의 거리= %.2f : %s\" %(i, d, strings[i]))\n",
    "\n",
    "  if(d < best_dist):\n",
    "    best_dist = d\n",
    "    best_i = i\n",
    "\n",
    "print(\"제일 가까운 문장과의 거리= %.2f : %s\" %(d, strings[best_i]))"
   ]
  },
  {
   "cell_type": "code",
   "execution_count": 62,
   "metadata": {},
   "outputs": [
    {
     "data": {
      "text/plain": [
       "[['SQL',\n",
       "  'INJECTION',\n",
       "  '이란',\n",
       "  '공격',\n",
       "  '자',\n",
       "  '가',\n",
       "  '악의',\n",
       "  '적',\n",
       "  '인',\n",
       "  '의도',\n",
       "  '를',\n",
       "  '지닌',\n",
       "  'SQL',\n",
       "  '구문',\n",
       "  '을',\n",
       "  '삽입',\n",
       "  '하여',\n",
       "  '데이터베이스',\n",
       "  '를',\n",
       "  '비정상',\n",
       "  '적',\n",
       "  '으로',\n",
       "  '조작',\n",
       "  '하는',\n",
       "  '코드',\n",
       "  '인젝션',\n",
       "  '공격',\n",
       "  '기법',\n",
       "  '입니다',\n",
       "  '.'],\n",
       " ['입력값',\n",
       "  '을',\n",
       "  '검증',\n",
       "  '하여',\n",
       "  '사용자',\n",
       "  '의',\n",
       "  '입력',\n",
       "  '이',\n",
       "  '쿼리',\n",
       "  '에',\n",
       "  '동',\n",
       "  '적',\n",
       "  '으로',\n",
       "  '영향',\n",
       "  '을',\n",
       "  '주는',\n",
       "  '경우',\n",
       "  '입력',\n",
       "  '된',\n",
       "  '값',\n",
       "  '이',\n",
       "  '개발자',\n",
       "  '가',\n",
       "  '의도',\n",
       "  '한',\n",
       "  '값',\n",
       "  '인지',\n",
       "  '검증',\n",
       "  '하는',\n",
       "  '방법',\n",
       "  '또는',\n",
       "  '저장',\n",
       "  '프로',\n",
       "  '시저',\n",
       "  '를',\n",
       "  '사용',\n",
       "  '합니다',\n",
       "  '.'],\n",
       " ['SQL',\n",
       "  'injection',\n",
       "  '은',\n",
       "  '악의',\n",
       "  '적',\n",
       "  '인',\n",
       "  '사용자',\n",
       "  '가',\n",
       "  '웹',\n",
       "  '응용',\n",
       "  '프로그램',\n",
       "  '또는',\n",
       "  '데이터베이스',\n",
       "  '에',\n",
       "  '액세스',\n",
       "  '하려는',\n",
       "  '때',\n",
       "  '사용',\n",
       "  '되는',\n",
       "  '공격',\n",
       "  '기술',\n",
       "  '로',\n",
       "  ',',\n",
       "  '악의',\n",
       "  '적',\n",
       "  '인',\n",
       "  'SQL',\n",
       "  '코드',\n",
       "  '를',\n",
       "  '입력',\n",
       "  '하여',\n",
       "  '데이터베이스',\n",
       "  '에',\n",
       "  '대한',\n",
       "  '부적절한',\n",
       "  '액세스',\n",
       "  '를',\n",
       "  '얻는',\n",
       "  '것',\n",
       "  '을',\n",
       "  '의미',\n",
       "  '합니다',\n",
       "  '.'],\n",
       " ['SQL',\n",
       "  'injection',\n",
       "  '은',\n",
       "  '웹',\n",
       "  '응용',\n",
       "  '프로그램',\n",
       "  '의',\n",
       "  '성능',\n",
       "  '을',\n",
       "  '향상',\n",
       "  '시키는',\n",
       "  '데',\n",
       "  '사용',\n",
       "  '되는',\n",
       "  '기술',\n",
       "  '로',\n",
       "  ',',\n",
       "  '데이터베이스',\n",
       "  '와',\n",
       "  '상호',\n",
       "  '작용',\n",
       "  '하여',\n",
       "  '보안',\n",
       "  '을',\n",
       "  '강화하는',\n",
       "  '방법',\n",
       "  '입니다',\n",
       "  '.']]"
      ]
     },
     "execution_count": 62,
     "metadata": {},
     "output_type": "execute_result"
    }
   ],
   "source": [
    "import konlpy\n",
    "from konlpy.tag import Okt\n",
    "okt = Okt()\n",
    "\n",
    "strings_tokens = [okt.morphs(row) for row in strings]\n",
    "strings_tokens"
   ]
  },
  {
   "cell_type": "code",
   "execution_count": 63,
   "metadata": {},
   "outputs": [
    {
     "data": {
      "text/plain": [
       "[' SQL INJECTION 이란 공격 자 가 악의 적 인 의도 를 지닌 SQL 구문 을 삽입 하여 데이터베이스 를 비정상 적 으로 조작 하는 코드 인젝션 공격 기법 입니다 .',\n",
       " ' 입력값 을 검증 하여 사용자 의 입력 이 쿼리 에 동 적 으로 영향 을 주는 경우 입력 된 값 이 개발자 가 의도 한 값 인지 검증 하는 방법 또는 저장 프로 시저 를 사용 합니다 .',\n",
       " ' SQL injection 은 악의 적 인 사용자 가 웹 응용 프로그램 또는 데이터베이스 에 액세스 하려는 때 사용 되는 공격 기술 로 , 악의 적 인 SQL 코드 를 입력 하여 데이터베이스 에 대한 부적절한 액세스 를 얻는 것 을 의미 합니다 .',\n",
       " ' SQL injection 은 웹 응용 프로그램 의 성능 을 향상 시키는 데 사용 되는 기술 로 , 데이터베이스 와 상호 작용 하여 보안 을 강화하는 방법 입니다 .']"
      ]
     },
     "execution_count": 63,
     "metadata": {},
     "output_type": "execute_result"
    }
   ],
   "source": [
    "strings_for_vectorize = []\n",
    "\n",
    "for contents in strings_tokens:\n",
    "    sentence = ''\n",
    "    for word in contents:\n",
    "        sentence = sentence + ' ' + word\n",
    "\n",
    "    strings_for_vectorize.append(sentence)\n",
    "\n",
    "strings_for_vectorize"
   ]
  },
  {
   "cell_type": "code",
   "execution_count": 64,
   "metadata": {},
   "outputs": [
    {
     "data": {
      "text/plain": [
       "array([[1, 0, 1, 1],\n",
       "       [2, 0, 2, 1],\n",
       "       [0, 0, 0, 1],\n",
       "       [0, 1, 0, 0],\n",
       "       [0, 2, 0, 0],\n",
       "       [0, 1, 0, 0],\n",
       "       [2, 0, 1, 0],\n",
       "       [1, 0, 0, 0],\n",
       "       [1, 0, 0, 0],\n",
       "       [0, 0, 1, 1],\n",
       "       [0, 0, 1, 0],\n",
       "       [1, 0, 2, 1],\n",
       "       [0, 0, 1, 1],\n",
       "       [0, 1, 1, 0],\n",
       "       [0, 1, 0, 1],\n",
       "       [0, 0, 0, 1],\n",
       "       [0, 0, 1, 0],\n",
       "       [1, 0, 0, 0],\n",
       "       [0, 1, 1, 1],\n",
       "       [0, 1, 1, 0],\n",
       "       [1, 0, 0, 0],\n",
       "       [0, 0, 0, 1],\n",
       "       [0, 0, 0, 1],\n",
       "       [0, 1, 0, 0],\n",
       "       [0, 0, 0, 1],\n",
       "       [1, 0, 2, 0],\n",
       "       [0, 0, 2, 0],\n",
       "       [0, 0, 1, 0],\n",
       "       [0, 1, 0, 0],\n",
       "       [1, 1, 0, 0],\n",
       "       [0, 0, 1, 1],\n",
       "       [1, 1, 0, 0],\n",
       "       [0, 0, 1, 0],\n",
       "       [1, 0, 0, 0],\n",
       "       [1, 0, 0, 0],\n",
       "       [0, 1, 0, 0],\n",
       "       [1, 0, 0, 1],\n",
       "       [0, 2, 1, 0],\n",
       "       [0, 1, 0, 0],\n",
       "       [0, 0, 0, 1],\n",
       "       [0, 1, 0, 0],\n",
       "       [1, 0, 0, 0],\n",
       "       [0, 1, 0, 0],\n",
       "       [1, 0, 0, 0],\n",
       "       [1, 0, 1, 0],\n",
       "       [0, 1, 0, 0],\n",
       "       [0, 1, 0, 0],\n",
       "       [0, 0, 1, 1],\n",
       "       [1, 1, 0, 0],\n",
       "       [0, 0, 1, 0],\n",
       "       [1, 1, 1, 1],\n",
       "       [0, 1, 1, 0],\n",
       "       [0, 0, 0, 1]], dtype=int64)"
      ]
     },
     "execution_count": 64,
     "metadata": {},
     "output_type": "execute_result"
    }
   ],
   "source": [
    "X = vectorizer.fit_transform(strings_for_vectorize)\n",
    "X.toarray().transpose()"
   ]
  },
  {
   "cell_type": "code",
   "execution_count": 65,
   "metadata": {},
   "outputs": [
    {
     "data": {
      "text/plain": [
       "[' SQL injection 은 데이터베이스 에서 정보 를 안전하게 추출 하는 데 사용 되는 기술 로 , 웹 응용 프로그램 에 악의 적 인 SQL 코드 를 삽입 하여 보안 취약점 을 악용 합니다 .']"
      ]
     },
     "execution_count": 65,
     "metadata": {},
     "output_type": "execute_result"
    }
   ],
   "source": [
    "new_post = ['SQL injection은 데이터베이스에서 정보를 안전하게 추출하는 데 사용되는 기술로, 웹 응용 프로그램에 악의적인 SQL 코드를 삽입하여 보안 취약점을 악용합니다.']\n",
    "new_post_tokens = [okt.morphs(row) for row in new_post]\n",
    "\n",
    "new_post_for_vectorize = []\n",
    "\n",
    "for content in new_post_tokens:\n",
    "    sentence = ''\n",
    "    for word in content:\n",
    "        sentence = sentence + ' ' + word\n",
    "\n",
    "    new_post_for_vectorize.append(sentence)\n",
    "\n",
    "new_post_for_vectorize"
   ]
  },
  {
   "cell_type": "code",
   "execution_count": 66,
   "metadata": {},
   "outputs": [
    {
     "data": {
      "text/plain": [
       "array([[1, 2, 0, 0, 0, 0, 0, 0, 0, 1, 0, 1, 1, 0, 0, 1, 0, 0, 1, 0, 1, 0,\n",
       "        0, 0, 0, 1, 0, 0, 0, 0, 1, 0, 0, 0, 0, 0, 0, 0, 0, 0, 0, 0, 0, 0,\n",
       "        1, 0, 0, 1, 1, 0, 1, 1, 0]], dtype=int64)"
      ]
     },
     "execution_count": 66,
     "metadata": {},
     "output_type": "execute_result"
    }
   ],
   "source": [
    "new_post_vector = vectorizer.transform(new_post_for_vectorize)\n",
    "new_post_vector.toarray()"
   ]
  },
  {
   "cell_type": "code",
   "execution_count": 67,
   "metadata": {},
   "outputs": [],
   "source": [
    "def tfidf(t, d, D):\n",
    "    tf = float(d.count(t)) / sum(d.count(w) for w in set(d))\n",
    "    idf = sp.log(float(len(D))) / len([doc for doc in D if t in doc])\n",
    "\n",
    "    return tf, idf"
   ]
  },
  {
   "cell_type": "code",
   "execution_count": 68,
   "metadata": {},
   "outputs": [],
   "source": [
    "from sklearn.feature_extraction.text import TfidfVectorizer\n",
    "\n",
    "vectorizer = TfidfVectorizer(min_df = 1, decode_error = 'ignore')"
   ]
  },
  {
   "cell_type": "code",
   "execution_count": 69,
   "metadata": {},
   "outputs": [
    {
     "name": "stdout",
     "output_type": "stream",
     "text": [
      "strings\n",
      "['SQL INJECTION이란 공격자가 악의적인 의도를 지닌 SQL 구문을 삽입하여 데이터베이스를 비정상적으로 조작하는 코드 인젝션 공격 기법입니다.', '입력값을 검증하여 사용자의 입력이 쿼리에 동적으로 영향을 주는 경우 입력된 값이 개발자가 의도한 값인지 검증하는 방법 또는 저장 프로시저를 사용합니다.', 'SQL injection은 악의적인 사용자가 웹 응용 프로그램 또는 데이터베이스에 액세스하려는 때 사용되는 공격 기술로, 악의적인 SQL 코드를 입력하여 데이터베이스에 대한 부적절한 액세스를 얻는 것을 의미합니다.', 'SQL injection은 웹 응용 프로그램의 성능을 향상시키는 데 사용되는 기술로, 데이터베이스와 상호 작용하여 보안을 강화하는 방법입니다.']\n",
      "-----------------\n",
      "[['SQL', 'INJECTION', '이란', '공격', '자', '가', '악의', '적', '인', '의도', '를', '지닌', 'SQL', '구문', '을', '삽입', '하여', '데이터베이스', '를', '비정상', '적', '으로', '조작', '하는', '코드', '인젝션', '공격', '기법', '입니다', '.'], ['입력값', '을', '검증', '하여', '사용자', '의', '입력', '이', '쿼리', '에', '동', '적', '으로', '영향', '을', '주는', '경우', '입력', '된', '값', '이', '개발자', '가', '의도', '한', '값', '인지', '검증', '하는', '방법', '또는', '저장', '프로', '시저', '를', '사용', '합니다', '.'], ['SQL', 'injection', '은', '악의', '적', '인', '사용자', '가', '웹', '응용', '프로그램', '또는', '데이터베이스', '에', '액세스', '하려는', '때', '사용', '되는', '공격', '기술', '로', ',', '악의', '적', '인', 'SQL', '코드', '를', '입력', '하여', '데이터베이스', '에', '대한', '부적절한', '액세스', '를', '얻는', '것', '을', '의미', '합니다', '.'], ['SQL', 'injection', '은', '웹', '응용', '프로그램', '의', '성능', '을', '향상', '시키는', '데', '사용', '되는', '기술', '로', ',', '데이터베이스', '와', '상호', '작용', '하여', '보안', '을', '강화하는', '방법', '입니다', '.']]\n",
      "-----------------\n",
      "SQL\n",
      "SQLINJECTION\n",
      "SQLINJECTION이란\n",
      "SQLINJECTION이란공격\n",
      "SQLINJECTION이란공격자\n",
      "SQLINJECTION이란공격자가\n",
      "SQLINJECTION이란공격자가악의\n",
      "SQLINJECTION이란공격자가악의적\n",
      "SQLINJECTION이란공격자가악의적인\n",
      "SQLINJECTION이란공격자가악의적인의도\n",
      "SQLINJECTION이란공격자가악의적인의도를\n",
      "SQLINJECTION이란공격자가악의적인의도를지닌\n",
      "SQLINJECTION이란공격자가악의적인의도를지닌SQL\n",
      "SQLINJECTION이란공격자가악의적인의도를지닌SQL구문\n",
      "SQLINJECTION이란공격자가악의적인의도를지닌SQL구문을\n",
      "SQLINJECTION이란공격자가악의적인의도를지닌SQL구문을삽입\n",
      "SQLINJECTION이란공격자가악의적인의도를지닌SQL구문을삽입하여\n",
      "SQLINJECTION이란공격자가악의적인의도를지닌SQL구문을삽입하여데이터베이스\n",
      "SQLINJECTION이란공격자가악의적인의도를지닌SQL구문을삽입하여데이터베이스를\n",
      "SQLINJECTION이란공격자가악의적인의도를지닌SQL구문을삽입하여데이터베이스를비정상\n",
      "SQLINJECTION이란공격자가악의적인의도를지닌SQL구문을삽입하여데이터베이스를비정상적\n",
      "SQLINJECTION이란공격자가악의적인의도를지닌SQL구문을삽입하여데이터베이스를비정상적으로\n",
      "SQLINJECTION이란공격자가악의적인의도를지닌SQL구문을삽입하여데이터베이스를비정상적으로조작\n",
      "SQLINJECTION이란공격자가악의적인의도를지닌SQL구문을삽입하여데이터베이스를비정상적으로조작하는\n",
      "SQLINJECTION이란공격자가악의적인의도를지닌SQL구문을삽입하여데이터베이스를비정상적으로조작하는코드\n",
      "SQLINJECTION이란공격자가악의적인의도를지닌SQL구문을삽입하여데이터베이스를비정상적으로조작하는코드인젝션\n",
      "SQLINJECTION이란공격자가악의적인의도를지닌SQL구문을삽입하여데이터베이스를비정상적으로조작하는코드인젝션공격\n",
      "SQLINJECTION이란공격자가악의적인의도를지닌SQL구문을삽입하여데이터베이스를비정상적으로조작하는코드인젝션공격기법\n",
      "SQLINJECTION이란공격자가악의적인의도를지닌SQL구문을삽입하여데이터베이스를비정상적으로조작하는코드인젝션공격기법입니다\n",
      "SQLINJECTION이란공격자가악의적인의도를지닌SQL구문을삽입하여데이터베이스를비정상적으로조작하는코드인젝션공격기법입니다.\n",
      "입력값\n",
      "입력값을\n",
      "입력값을검증\n",
      "입력값을검증하여\n",
      "입력값을검증하여사용자\n",
      "입력값을검증하여사용자의\n",
      "입력값을검증하여사용자의입력\n",
      "입력값을검증하여사용자의입력이\n",
      "입력값을검증하여사용자의입력이쿼리\n",
      "입력값을검증하여사용자의입력이쿼리에\n",
      "입력값을검증하여사용자의입력이쿼리에동\n",
      "입력값을검증하여사용자의입력이쿼리에동적\n",
      "입력값을검증하여사용자의입력이쿼리에동적으로\n",
      "입력값을검증하여사용자의입력이쿼리에동적으로영향\n",
      "입력값을검증하여사용자의입력이쿼리에동적으로영향을\n",
      "입력값을검증하여사용자의입력이쿼리에동적으로영향을주는\n",
      "입력값을검증하여사용자의입력이쿼리에동적으로영향을주는경우\n",
      "입력값을검증하여사용자의입력이쿼리에동적으로영향을주는경우입력\n",
      "입력값을검증하여사용자의입력이쿼리에동적으로영향을주는경우입력된\n",
      "입력값을검증하여사용자의입력이쿼리에동적으로영향을주는경우입력된값\n",
      "입력값을검증하여사용자의입력이쿼리에동적으로영향을주는경우입력된값이\n",
      "입력값을검증하여사용자의입력이쿼리에동적으로영향을주는경우입력된값이개발자\n",
      "입력값을검증하여사용자의입력이쿼리에동적으로영향을주는경우입력된값이개발자가\n",
      "입력값을검증하여사용자의입력이쿼리에동적으로영향을주는경우입력된값이개발자가의도\n",
      "입력값을검증하여사용자의입력이쿼리에동적으로영향을주는경우입력된값이개발자가의도한\n",
      "입력값을검증하여사용자의입력이쿼리에동적으로영향을주는경우입력된값이개발자가의도한값\n",
      "입력값을검증하여사용자의입력이쿼리에동적으로영향을주는경우입력된값이개발자가의도한값인지\n",
      "입력값을검증하여사용자의입력이쿼리에동적으로영향을주는경우입력된값이개발자가의도한값인지검증\n",
      "입력값을검증하여사용자의입력이쿼리에동적으로영향을주는경우입력된값이개발자가의도한값인지검증하는\n",
      "입력값을검증하여사용자의입력이쿼리에동적으로영향을주는경우입력된값이개발자가의도한값인지검증하는방법\n",
      "입력값을검증하여사용자의입력이쿼리에동적으로영향을주는경우입력된값이개발자가의도한값인지검증하는방법또는\n",
      "입력값을검증하여사용자의입력이쿼리에동적으로영향을주는경우입력된값이개발자가의도한값인지검증하는방법또는저장\n",
      "입력값을검증하여사용자의입력이쿼리에동적으로영향을주는경우입력된값이개발자가의도한값인지검증하는방법또는저장프로\n",
      "입력값을검증하여사용자의입력이쿼리에동적으로영향을주는경우입력된값이개발자가의도한값인지검증하는방법또는저장프로시저\n",
      "입력값을검증하여사용자의입력이쿼리에동적으로영향을주는경우입력된값이개발자가의도한값인지검증하는방법또는저장프로시저를\n",
      "입력값을검증하여사용자의입력이쿼리에동적으로영향을주는경우입력된값이개발자가의도한값인지검증하는방법또는저장프로시저를사용\n",
      "입력값을검증하여사용자의입력이쿼리에동적으로영향을주는경우입력된값이개발자가의도한값인지검증하는방법또는저장프로시저를사용합니다\n",
      "입력값을검증하여사용자의입력이쿼리에동적으로영향을주는경우입력된값이개발자가의도한값인지검증하는방법또는저장프로시저를사용합니다.\n",
      "SQL\n",
      "SQLinjection\n",
      "SQLinjection은\n",
      "SQLinjection은악의\n",
      "SQLinjection은악의적\n",
      "SQLinjection은악의적인\n",
      "SQLinjection은악의적인사용자\n",
      "SQLinjection은악의적인사용자가\n",
      "SQLinjection은악의적인사용자가웹\n",
      "SQLinjection은악의적인사용자가웹응용\n",
      "SQLinjection은악의적인사용자가웹응용프로그램\n",
      "SQLinjection은악의적인사용자가웹응용프로그램또는\n",
      "SQLinjection은악의적인사용자가웹응용프로그램또는데이터베이스\n",
      "SQLinjection은악의적인사용자가웹응용프로그램또는데이터베이스에\n",
      "SQLinjection은악의적인사용자가웹응용프로그램또는데이터베이스에액세스\n",
      "SQLinjection은악의적인사용자가웹응용프로그램또는데이터베이스에액세스하려는\n",
      "SQLinjection은악의적인사용자가웹응용프로그램또는데이터베이스에액세스하려는때\n",
      "SQLinjection은악의적인사용자가웹응용프로그램또는데이터베이스에액세스하려는때사용\n",
      "SQLinjection은악의적인사용자가웹응용프로그램또는데이터베이스에액세스하려는때사용되는\n",
      "SQLinjection은악의적인사용자가웹응용프로그램또는데이터베이스에액세스하려는때사용되는공격\n",
      "SQLinjection은악의적인사용자가웹응용프로그램또는데이터베이스에액세스하려는때사용되는공격기술\n",
      "SQLinjection은악의적인사용자가웹응용프로그램또는데이터베이스에액세스하려는때사용되는공격기술로\n",
      "SQLinjection은악의적인사용자가웹응용프로그램또는데이터베이스에액세스하려는때사용되는공격기술로,\n",
      "SQLinjection은악의적인사용자가웹응용프로그램또는데이터베이스에액세스하려는때사용되는공격기술로,악의\n",
      "SQLinjection은악의적인사용자가웹응용프로그램또는데이터베이스에액세스하려는때사용되는공격기술로,악의적\n",
      "SQLinjection은악의적인사용자가웹응용프로그램또는데이터베이스에액세스하려는때사용되는공격기술로,악의적인\n",
      "SQLinjection은악의적인사용자가웹응용프로그램또는데이터베이스에액세스하려는때사용되는공격기술로,악의적인SQL\n",
      "SQLinjection은악의적인사용자가웹응용프로그램또는데이터베이스에액세스하려는때사용되는공격기술로,악의적인SQL코드\n",
      "SQLinjection은악의적인사용자가웹응용프로그램또는데이터베이스에액세스하려는때사용되는공격기술로,악의적인SQL코드를\n",
      "SQLinjection은악의적인사용자가웹응용프로그램또는데이터베이스에액세스하려는때사용되는공격기술로,악의적인SQL코드를입력\n",
      "SQLinjection은악의적인사용자가웹응용프로그램또는데이터베이스에액세스하려는때사용되는공격기술로,악의적인SQL코드를입력하여\n",
      "SQLinjection은악의적인사용자가웹응용프로그램또는데이터베이스에액세스하려는때사용되는공격기술로,악의적인SQL코드를입력하여데이터베이스\n",
      "SQLinjection은악의적인사용자가웹응용프로그램또는데이터베이스에액세스하려는때사용되는공격기술로,악의적인SQL코드를입력하여데이터베이스에\n",
      "SQLinjection은악의적인사용자가웹응용프로그램또는데이터베이스에액세스하려는때사용되는공격기술로,악의적인SQL코드를입력하여데이터베이스에대한\n",
      "SQLinjection은악의적인사용자가웹응용프로그램또는데이터베이스에액세스하려는때사용되는공격기술로,악의적인SQL코드를입력하여데이터베이스에대한부적절한\n",
      "SQLinjection은악의적인사용자가웹응용프로그램또는데이터베이스에액세스하려는때사용되는공격기술로,악의적인SQL코드를입력하여데이터베이스에대한부적절한액세스\n",
      "SQLinjection은악의적인사용자가웹응용프로그램또는데이터베이스에액세스하려는때사용되는공격기술로,악의적인SQL코드를입력하여데이터베이스에대한부적절한액세스를\n",
      "SQLinjection은악의적인사용자가웹응용프로그램또는데이터베이스에액세스하려는때사용되는공격기술로,악의적인SQL코드를입력하여데이터베이스에대한부적절한액세스를얻는\n",
      "SQLinjection은악의적인사용자가웹응용프로그램또는데이터베이스에액세스하려는때사용되는공격기술로,악의적인SQL코드를입력하여데이터베이스에대한부적절한액세스를얻는것\n",
      "SQLinjection은악의적인사용자가웹응용프로그램또는데이터베이스에액세스하려는때사용되는공격기술로,악의적인SQL코드를입력하여데이터베이스에대한부적절한액세스를얻는것을\n",
      "SQLinjection은악의적인사용자가웹응용프로그램또는데이터베이스에액세스하려는때사용되는공격기술로,악의적인SQL코드를입력하여데이터베이스에대한부적절한액세스를얻는것을의미\n",
      "SQLinjection은악의적인사용자가웹응용프로그램또는데이터베이스에액세스하려는때사용되는공격기술로,악의적인SQL코드를입력하여데이터베이스에대한부적절한액세스를얻는것을의미합니다\n",
      "SQLinjection은악의적인사용자가웹응용프로그램또는데이터베이스에액세스하려는때사용되는공격기술로,악의적인SQL코드를입력하여데이터베이스에대한부적절한액세스를얻는것을의미합니다.\n",
      "SQL\n",
      "SQLinjection\n",
      "SQLinjection은\n",
      "SQLinjection은웹\n",
      "SQLinjection은웹응용\n",
      "SQLinjection은웹응용프로그램\n",
      "SQLinjection은웹응용프로그램의\n",
      "SQLinjection은웹응용프로그램의성능\n",
      "SQLinjection은웹응용프로그램의성능을\n",
      "SQLinjection은웹응용프로그램의성능을향상\n",
      "SQLinjection은웹응용프로그램의성능을향상시키는\n",
      "SQLinjection은웹응용프로그램의성능을향상시키는데\n",
      "SQLinjection은웹응용프로그램의성능을향상시키는데사용\n",
      "SQLinjection은웹응용프로그램의성능을향상시키는데사용되는\n",
      "SQLinjection은웹응용프로그램의성능을향상시키는데사용되는기술\n",
      "SQLinjection은웹응용프로그램의성능을향상시키는데사용되는기술로\n",
      "SQLinjection은웹응용프로그램의성능을향상시키는데사용되는기술로,\n",
      "SQLinjection은웹응용프로그램의성능을향상시키는데사용되는기술로,데이터베이스\n",
      "SQLinjection은웹응용프로그램의성능을향상시키는데사용되는기술로,데이터베이스와\n",
      "SQLinjection은웹응용프로그램의성능을향상시키는데사용되는기술로,데이터베이스와상호\n",
      "SQLinjection은웹응용프로그램의성능을향상시키는데사용되는기술로,데이터베이스와상호작용\n",
      "SQLinjection은웹응용프로그램의성능을향상시키는데사용되는기술로,데이터베이스와상호작용하여\n",
      "SQLinjection은웹응용프로그램의성능을향상시키는데사용되는기술로,데이터베이스와상호작용하여보안\n",
      "SQLinjection은웹응용프로그램의성능을향상시키는데사용되는기술로,데이터베이스와상호작용하여보안을\n",
      "SQLinjection은웹응용프로그램의성능을향상시키는데사용되는기술로,데이터베이스와상호작용하여보안을강화하는\n",
      "SQLinjection은웹응용프로그램의성능을향상시키는데사용되는기술로,데이터베이스와상호작용하여보안을강화하는방법\n",
      "SQLinjection은웹응용프로그램의성능을향상시키는데사용되는기술로,데이터베이스와상호작용하여보안을강화하는방법입니다\n",
      "SQLinjection은웹응용프로그램의성능을향상시키는데사용되는기술로,데이터베이스와상호작용하여보안을강화하는방법입니다.\n"
     ]
    },
    {
     "data": {
      "text/plain": [
       "(4, 6)"
      ]
     },
     "execution_count": 69,
     "metadata": {},
     "output_type": "execute_result"
    }
   ],
   "source": [
    "print('strings')\n",
    "print(strings)\n",
    "\n",
    "strings_tokens = [okt.morphs(row) for row in strings]\n",
    "\n",
    "strings_for_vectorize = []\n",
    "\n",
    "print('-----------------')\n",
    "print(strings_tokens)\n",
    "print('-----------------')\n",
    "for content in strings_tokens:\n",
    "    sentence = ''\n",
    "    for word in content:\n",
    "        sentence = sentence + '' + word\n",
    "        print(sentence)\n",
    "\n",
    "    strings_for_vectorize.append(sentence)\n",
    "\n",
    "\n",
    "X = vectorizer.fit_transform(strings_for_vectorize)\n",
    "num_samples, num_features = X.shape\n",
    "num_samples, num_features"
   ]
  },
  {
   "cell_type": "code",
   "execution_count": 70,
   "metadata": {},
   "outputs": [
    {
     "data": {
      "text/plain": [
       "[' SQL injection 은 데이터베이스 에서 정보 를 안전하게 추출 하는 데 사용 되는 기술 로 , 웹 응용 프로그램 에 악의 적 인 SQL 코드 를 삽입 하여 보안 취약점 을 악용 합니다 .']"
      ]
     },
     "execution_count": 70,
     "metadata": {},
     "output_type": "execute_result"
    }
   ],
   "source": [
    "new_post = ['SQL injection은 데이터베이스에서 정보를 안전하게 추출하는 데 사용되는 기술로, 웹 응용 프로그램에 악의적인 SQL 코드를 삽입하여 보안 취약점을 악용합니다.']\n",
    "new_post_tokens = [okt.morphs(row) for row in new_post]\n",
    "\n",
    "new_post_for_vectorize = []\n",
    "\n",
    "for content in new_post_tokens:\n",
    "    sentence = ''\n",
    "    for word in content:\n",
    "        sentence = sentence + ' ' + word\n",
    "\n",
    "    new_post_for_vectorize.append(sentence)\n",
    "\n",
    "new_post_for_vectorize"
   ]
  },
  {
   "cell_type": "code",
   "execution_count": 71,
   "metadata": {},
   "outputs": [],
   "source": [
    "new_post_vec = vectorizer.transform(new_post_for_vectorize)"
   ]
  },
  {
   "cell_type": "code",
   "execution_count": 72,
   "metadata": {},
   "outputs": [
    {
     "name": "stdout",
     "output_type": "stream",
     "text": [
      "Best post is 0, dist = 1.00\n",
      "--> ['SQL injection은 데이터베이스에서 정보를 안전하게 추출하는 데 사용되는 기술로, 웹 응용 프로그램에 악의적인 SQL 코드를 삽입하여 보안 취약점을 악용합니다.']\n",
      "-------> SQL INJECTION이란 공격자가 악의적인 의도를 지닌 SQL 구문을 삽입하여 데이터베이스를 비정상적으로 조작하는 코드 인젝션 공격 기법입니다.\n"
     ]
    }
   ],
   "source": [
    "best_doc = None\n",
    "best_dist = 65535\n",
    "best_i = None\n",
    "\n",
    "for i in range(0, num_samples):\n",
    "    post_vec = X.getrow(i)\n",
    "\n",
    "    d = dist_raw(post_vec, new_post_vec)\n",
    "\n",
    "    if d < best_dist:\n",
    "        best_dist = d\n",
    "        best_i = i\n",
    "\n",
    "print(\"Best post is %i, dist = %.2f\" %(best_i, best_dist))\n",
    "print('-->', new_post)\n",
    "print('------->', strings[best_i])"
   ]
  }
 ],
 "metadata": {
  "kernelspec": {
   "display_name": "Python 3",
   "language": "python",
   "name": "python3"
  },
  "language_info": {
   "codemirror_mode": {
    "name": "ipython",
    "version": 3
   },
   "file_extension": ".py",
   "mimetype": "text/x-python",
   "name": "python",
   "nbconvert_exporter": "python",
   "pygments_lexer": "ipython3",
   "version": "3.10.8"
  }
 },
 "nbformat": 4,
 "nbformat_minor": 2
}
